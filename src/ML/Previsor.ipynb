{
  "cells": [
    {
      "cell_type": "code",
      "execution_count": 28,
      "id": "aaa863d2",
      "metadata": {
        "colab": {
          "base_uri": "https://localhost:8080/"
        },
        "id": "aaa863d2",
        "outputId": "38cd648e-819b-4d53-c391-f87415fa2558"
      },
      "outputs": [
        {
          "output_type": "stream",
          "name": "stdout",
          "text": [
            "Linha 1: prev=586 ônibus=12  MSE=340980.23  (Intervalo≈[-142.4,1314.1])\n",
            "Linha 2: prev=826 ônibus=17  MSE=376553.70  (Intervalo≈[334.7,1317.1])\n",
            "Linha 3: prev=208 ônibus=5  MSE=78311.84  (Intervalo≈[-97.1,513.7])\n",
            "Linha 4: prev=279 ônibus=6  MSE=59906.47  (Intervalo≈[62.0,496.8])\n",
            "Linha 5: prev=59 ônibus=2  MSE=82278.87  (Intervalo≈[-256.3,374.2])\n"
          ]
        }
      ],
      "source": [
        "# pip install pandas numpy matplotlib statsmodels scikit-learn\n",
        "import pandas as pd, numpy as np, matplotlib.pyplot as plt, math\n",
        "from statsmodels.tsa.statespace.sarimax import SARIMAX\n",
        "from sklearn.metrics import mean_squared_error\n",
        "\n",
        "df = pd.read_csv(\"https://raw.githubusercontent.com/Laginho/SmartCity-Simulator/refs/heads/main/src/Input/dados_onibus.csv\")\n",
        "\n",
        "# cria ordem de leitura\n",
        "df[\"row_id\"] = np.arange(len(df))\n",
        "weekday_order = [\"Seg\",\"Ter\",\"Qua\",\"Qui\",\"Sex\",\"Sab\",\"Dom\"]\n",
        "weekday_to_idx = {d:i for i,d in enumerate(weekday_order)}\n",
        "df[\"weekday_idx\"] = df[\"dia\"].map(weekday_to_idx)\n",
        "\n",
        "# ordena por linha e ordem de aparecimento\n",
        "df = df.sort_values([\"linha\",\"row_id\"]).reset_index(drop=True)\n",
        "\n",
        "# contador sequencial de dias para cada linha, o eixo temporal do modelo.\n",
        "df[\"t_seq\"] = df.groupby(\"linha\").cumcount()\n",
        "\n",
        "capacidade_onibus = 50\n",
        "resultados, previsoes = {}, []\n",
        "\n",
        "for linha, g in df.groupby(\"linha\"):\n",
        "    # Para cada linha de ônibus, cria uma série temporal s indexada por t_seq\n",
        "    s = g.set_index(\"t_seq\")[\"requests\"]\n",
        "\n",
        "    # SARIMAX semanal\n",
        "    model = SARIMAX(s, order=(1,1,2), seasonal_order=(1,1,0,7),\n",
        "                    enforce_stationarity=False, enforce_invertibility=False)\n",
        "    res = model.fit(disp=False)\n",
        "\n",
        "    # previsão 1 passo à frente\n",
        "    fc = res.get_forecast(steps=1)\n",
        "    mean = float(fc.predicted_mean.iloc[0])\n",
        "    lo, hi = fc.conf_int().iloc[0].tolist() #limites inferior e superior do intervalo de confiança\n",
        "\n",
        "    # erro de treino\n",
        "    fitted = res.fittedvalues.dropna()\n",
        "    y_true = s.loc[fitted.index]\n",
        "    mse = mean_squared_error(y_true, fitted) #Compara com os valores reais da série e mede o erro quadrático médio (MSE)\n",
        "\n",
        "    prev_round = int(round(mean))\n",
        "    buses = math.ceil(max(prev_round,0) / capacidade_onibus)\n",
        "\n",
        "    resultados[linha] = dict(prev=prev_round, buses=buses, mse=mse, lo=lo, hi=hi, last=s.iloc[-1])\n",
        "    previsoes.append({\"linha\": linha, \"next_day\": int(s.index[-1])+1, \"requests\": prev_round})\n",
        "\n",
        "# DataFrame final\n",
        "df_prev = pd.DataFrame(previsoes).sort_values(\"linha\")\n",
        "\n",
        "# Resumo por linha\n",
        "for linha, r in resultados.items():\n",
        "    print(f\"Linha {linha}: prev={r['prev']} ônibus={r['buses']}  MSE={r['mse']:.2f}  \"\n",
        "          f\"(Intervalo≈[{r['lo']:.1f},{r['hi']:.1f}])\")\n"
      ]
    }
  ],
  "metadata": {
    "kernelspec": {
      "display_name": "Python 3",
      "language": "python",
      "name": "python3"
    },
    "language_info": {
      "codemirror_mode": {
        "name": "ipython",
        "version": 3
      },
      "file_extension": ".py",
      "mimetype": "text/x-python",
      "name": "python",
      "nbconvert_exporter": "python",
      "pygments_lexer": "ipython3",
      "version": "3.13.2"
    },
    "colab": {
      "provenance": []
    }
  },
  "nbformat": 4,
  "nbformat_minor": 5
}