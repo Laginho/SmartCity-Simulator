{
 "cells": [
  {
   "cell_type": "code",
   "execution_count": 1,
   "id": "aaa863d2",
   "metadata": {},
   "outputs": [
    {
     "name": "stderr",
     "output_type": "stream",
     "text": [
      "c:\\Users\\leona\\AppData\\Local\\Programs\\Python\\Python313\\Lib\\site-packages\\statsmodels\\tsa\\statespace\\sarimax.py:866: UserWarning: Too few observations to estimate starting parameters for ARMA and trend. All parameters except for variances will be set to zeros.\n",
      "  warn('Too few observations to estimate starting parameters%s.'\n",
      "c:\\Users\\leona\\AppData\\Local\\Programs\\Python\\Python313\\Lib\\site-packages\\statsmodels\\tsa\\statespace\\sarimax.py:866: UserWarning: Too few observations to estimate starting parameters for seasonal ARMA. All parameters except for variances will be set to zeros.\n",
      "  warn('Too few observations to estimate starting parameters%s.'\n",
      "c:\\Users\\leona\\AppData\\Local\\Programs\\Python\\Python313\\Lib\\site-packages\\statsmodels\\base\\model.py:607: ConvergenceWarning: Maximum Likelihood optimization failed to converge. Check mle_retvals\n",
      "  warnings.warn(\"Maximum Likelihood optimization failed to \"\n",
      "c:\\Users\\leona\\AppData\\Local\\Programs\\Python\\Python313\\Lib\\site-packages\\statsmodels\\tsa\\statespace\\sarimax.py:866: UserWarning: Too few observations to estimate starting parameters for ARMA and trend. All parameters except for variances will be set to zeros.\n",
      "  warn('Too few observations to estimate starting parameters%s.'\n",
      "c:\\Users\\leona\\AppData\\Local\\Programs\\Python\\Python313\\Lib\\site-packages\\statsmodels\\tsa\\statespace\\sarimax.py:866: UserWarning: Too few observations to estimate starting parameters for seasonal ARMA. All parameters except for variances will be set to zeros.\n",
      "  warn('Too few observations to estimate starting parameters%s.'\n",
      "c:\\Users\\leona\\AppData\\Local\\Programs\\Python\\Python313\\Lib\\site-packages\\statsmodels\\base\\model.py:607: ConvergenceWarning: Maximum Likelihood optimization failed to converge. Check mle_retvals\n",
      "  warnings.warn(\"Maximum Likelihood optimization failed to \"\n",
      "c:\\Users\\leona\\AppData\\Local\\Programs\\Python\\Python313\\Lib\\site-packages\\statsmodels\\tsa\\statespace\\sarimax.py:866: UserWarning: Too few observations to estimate starting parameters for ARMA and trend. All parameters except for variances will be set to zeros.\n",
      "  warn('Too few observations to estimate starting parameters%s.'\n",
      "c:\\Users\\leona\\AppData\\Local\\Programs\\Python\\Python313\\Lib\\site-packages\\statsmodels\\tsa\\statespace\\sarimax.py:866: UserWarning: Too few observations to estimate starting parameters for seasonal ARMA. All parameters except for variances will be set to zeros.\n",
      "  warn('Too few observations to estimate starting parameters%s.'\n",
      "c:\\Users\\leona\\AppData\\Local\\Programs\\Python\\Python313\\Lib\\site-packages\\statsmodels\\base\\model.py:607: ConvergenceWarning: Maximum Likelihood optimization failed to converge. Check mle_retvals\n",
      "  warnings.warn(\"Maximum Likelihood optimization failed to \"\n",
      "c:\\Users\\leona\\AppData\\Local\\Programs\\Python\\Python313\\Lib\\site-packages\\statsmodels\\tsa\\statespace\\sarimax.py:866: UserWarning: Too few observations to estimate starting parameters for ARMA and trend. All parameters except for variances will be set to zeros.\n",
      "  warn('Too few observations to estimate starting parameters%s.'\n",
      "c:\\Users\\leona\\AppData\\Local\\Programs\\Python\\Python313\\Lib\\site-packages\\statsmodels\\tsa\\statespace\\sarimax.py:866: UserWarning: Too few observations to estimate starting parameters for seasonal ARMA. All parameters except for variances will be set to zeros.\n",
      "  warn('Too few observations to estimate starting parameters%s.'\n",
      "c:\\Users\\leona\\AppData\\Local\\Programs\\Python\\Python313\\Lib\\site-packages\\statsmodels\\tsa\\statespace\\sarimax.py:866: UserWarning: Too few observations to estimate starting parameters for ARMA and trend. All parameters except for variances will be set to zeros.\n",
      "  warn('Too few observations to estimate starting parameters%s.'\n",
      "c:\\Users\\leona\\AppData\\Local\\Programs\\Python\\Python313\\Lib\\site-packages\\statsmodels\\tsa\\statespace\\sarimax.py:866: UserWarning: Too few observations to estimate starting parameters for seasonal ARMA. All parameters except for variances will be set to zeros.\n",
      "  warn('Too few observations to estimate starting parameters%s.'\n"
     ]
    },
    {
     "name": "stdout",
     "output_type": "stream",
     "text": [
      "Linha 1: prev=1236 ônibus=25  MSE=695271.31  (Intervalo≈[1201.2,1270.1])\n",
      "Linha 2: prev=2376 ônibus=48  MSE=837775.12  (Intervalo≈[2138.0,2614.6])\n",
      "Linha 3: prev=1082 ônibus=22  MSE=147454.95  (Intervalo≈[1010.6,1152.7])\n",
      "Linha 4: prev=835 ônibus=17  MSE=148155.98  (Intervalo≈[730.7,938.6])\n",
      "Linha 5: prev=231 ônibus=5  MSE=155372.39  (Intervalo≈[97.2,365.1])\n"
     ]
    },
    {
     "name": "stderr",
     "output_type": "stream",
     "text": [
      "c:\\Users\\leona\\AppData\\Local\\Programs\\Python\\Python313\\Lib\\site-packages\\statsmodels\\base\\model.py:607: ConvergenceWarning: Maximum Likelihood optimization failed to converge. Check mle_retvals\n",
      "  warnings.warn(\"Maximum Likelihood optimization failed to \"\n"
     ]
    }
   ],
   "source": [
    "# pip install pandas numpy matplotlib statsmodels scikit-learn\n",
    "import pandas as pd, numpy as np, matplotlib.pyplot as plt, math\n",
    "from statsmodels.tsa.statespace.sarimax import SARIMAX\n",
    "from sklearn.metrics import mean_squared_error\n",
    "\n",
    "df = pd.read_csv(\"dados_onibus.csv\")\n",
    "\n",
    "# cria ordem de leitura\n",
    "df[\"row_id\"] = np.arange(len(df)) #para preservar a ordem original, e saber diferenciar a 1 segunda da 2 segunda\n",
    "ordem_semanal = [\"Seg\",\"Ter\",\"Qua\",\"Qui\",\"Sex\",\"Sab\",\"Dom\"]\n",
    "idx_semanal = {d:i for i,d in enumerate(ordem_semanal)}\n",
    "df[\"idx_semanal\"] = df[\"dia\"].map(idx_semanal)\n",
    "\n",
    "# ordena por linha e ordem de aparecimento\n",
    "df = df.sort_values([\"linha\",\"row_id\"]).reset_index(drop=True)\n",
    "\n",
    "# contador sequencial de dias para cada linha, o eixo temporal do modelo.\n",
    "df[\"t_seq\"] = df.groupby(\"linha\").cumcount()\n",
    "\n",
    "capacidade_onibus = 50\n",
    "resultados, previsoes = {}, []\n",
    "\n",
    "for linha, g in df.groupby(\"linha\"):\n",
    "    # Para cada linha de ônibus, cria uma série temporal s indexada por t_seq\n",
    "    s = g.set_index(\"t_seq\")[\"requests\"]\n",
    "\n",
    "    # SARIMAX semanal\n",
    "    # usa 1 valor passado, 1 diferenciacao (quantas vezes subtrair valores consecutivos para estabilizar a série) e 2 erro passado (para corrigir resultados)\n",
    "    #usa também 1 valor de 7 dias atrás, com diferenciação sazonal\n",
    "    model = SARIMAX(s, order=(1,1,2), seasonal_order=(1,1,0,7))\n",
    "    res = model.fit(disp=False)\n",
    "\n",
    "    # previsão 1 passo à frente\n",
    "    fc = res.get_forecast(steps=1)\n",
    "    media = float(fc.predicted_mean.iloc[0]) #valor previsto\n",
    "    lo, hi = fc.conf_int().iloc[0].tolist() #limites inferior e superior do intervalo de confiança\n",
    "\n",
    "    # erro de treino\n",
    "    fitted = res.fittedvalues.dropna() #valores modelo\n",
    "    y_real = s.loc[fitted.index] #valores reais\n",
    "    mse = mean_squared_error(y_real, fitted) #Compara com os valores reais da série e mede o erro quadrático médio (MSE)\n",
    "\n",
    "    prev_round = int(round(media))\n",
    "    onibus = math.ceil(max(prev_round,0) / capacidade_onibus)\n",
    "\n",
    "    resultados[linha] = dict(prev=prev_round, onibus=onibus, mse=mse, lo=lo, hi=hi, last=s.iloc[-1])\n",
    "    previsoes.append({\"linha\": linha, \"next_day\": int(s.index[-1])+1, \"requests\": prev_round})\n",
    "\n",
    "# DataFrame final\n",
    "df_prev = pd.DataFrame(previsoes).sort_values(\"linha\")\n",
    "\n",
    "# Resumo por linha\n",
    "for linha, r in resultados.items():\n",
    "    print(f\"Linha {linha}: prev={r['prev']} ônibus={r['onibus']}  MSE={r['mse']:.2f}  \"\n",
    "          f\"(Intervalo≈[{r['lo']:.1f},{r['hi']:.1f}])\")\n"
   ]
  }
 ],
 "metadata": {
  "kernelspec": {
   "display_name": "Python 3",
   "language": "python",
   "name": "python3"
  },
  "language_info": {
   "codemirror_mode": {
    "name": "ipython",
    "version": 3
   },
   "file_extension": ".py",
   "mimetype": "text/x-python",
   "name": "python",
   "nbconvert_exporter": "python",
   "pygments_lexer": "ipython3",
   "version": "3.13.2"
  }
 },
 "nbformat": 4,
 "nbformat_minor": 5
}
