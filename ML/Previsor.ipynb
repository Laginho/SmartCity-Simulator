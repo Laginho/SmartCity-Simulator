{
 "cells": [
  {
   "cell_type": "code",
   "execution_count": null,
   "id": "aaa863d2",
   "metadata": {},
   "outputs": [
    {
     "name": "stdout",
     "output_type": "stream",
     "text": [
      "Linha 1: prev=958 ônibus=20  MSE=8014985.97  (Intervalo≈[668.7,1248.1])\n",
      "Linha 2: prev=2272 ônibus=46  MSE=797403.26  (Intervalo≈[1770.5,2773.9])\n",
      "Linha 3: prev=693 ônibus=14  MSE=690993.18  (Intervalo≈[396.9,988.5])\n",
      "Linha 4: prev=770 ônibus=16  MSE=660616.89  (Intervalo≈[535.1,1005.2])\n",
      "Linha 5: prev=213 ônibus=5  MSE=142240.17  (Intervalo≈[-100.7,526.1])\n"
     ]
    },
    {
     "name": "stderr",
     "output_type": "stream",
     "text": [
      "c:\\Users\\leona\\AppData\\Local\\Programs\\Python\\Python313\\Lib\\site-packages\\statsmodels\\tsa\\statespace\\sarimax.py:866: UserWarning: Too few observations to estimate starting parameters for seasonal ARMA. All parameters except for variances will be set to zeros.\n",
      "  warn('Too few observations to estimate starting parameters%s.'\n",
      "c:\\Users\\leona\\AppData\\Local\\Programs\\Python\\Python313\\Lib\\site-packages\\statsmodels\\tsa\\statespace\\sarimax.py:866: UserWarning: Too few observations to estimate starting parameters for seasonal ARMA. All parameters except for variances will be set to zeros.\n",
      "  warn('Too few observations to estimate starting parameters%s.'\n",
      "c:\\Users\\leona\\AppData\\Local\\Programs\\Python\\Python313\\Lib\\site-packages\\statsmodels\\tsa\\statespace\\sarimax.py:866: UserWarning: Too few observations to estimate starting parameters for seasonal ARMA. All parameters except for variances will be set to zeros.\n",
      "  warn('Too few observations to estimate starting parameters%s.'\n",
      "c:\\Users\\leona\\AppData\\Local\\Programs\\Python\\Python313\\Lib\\site-packages\\statsmodels\\tsa\\statespace\\sarimax.py:866: UserWarning: Too few observations to estimate starting parameters for seasonal ARMA. All parameters except for variances will be set to zeros.\n",
      "  warn('Too few observations to estimate starting parameters%s.'\n",
      "c:\\Users\\leona\\AppData\\Local\\Programs\\Python\\Python313\\Lib\\site-packages\\statsmodels\\tsa\\statespace\\sarimax.py:866: UserWarning: Too few observations to estimate starting parameters for seasonal ARMA. All parameters except for variances will be set to zeros.\n",
      "  warn('Too few observations to estimate starting parameters%s.'\n"
     ]
    }
   ],
   "source": [
    "# pip install pandas numpy matplotlib statsmodels scikit-learn\n",
    "import pandas as pd, numpy as np, matplotlib.pyplot as plt, math\n",
    "from statsmodels.tsa.statespace.sarimax import SARIMAX\n",
    "from sklearn.metrics import mean_squared_error\n",
    "\n",
    "df = pd.read_csv(\"dados_onibus.csv\")\n",
    "\n",
    "# cria ordem de leitura\n",
    "df[\"row_id\"] = np.arange(len(df))\n",
    "weekday_order = [\"Seg\",\"Ter\",\"Qua\",\"Qui\",\"Sex\",\"Sab\",\"Dom\"]\n",
    "weekday_to_idx = {d:i for i,d in enumerate(weekday_order)}\n",
    "df[\"weekday_idx\"] = df[\"dia\"].map(weekday_to_idx)\n",
    "\n",
    "# ordena por linha e ordem de aparecimento\n",
    "df = df.sort_values([\"linha\",\"row_id\"]).reset_index(drop=True)\n",
    "\n",
    "# contador sequencial de dias para cada linha, o eixo temporal do modelo.\n",
    "df[\"t_seq\"] = df.groupby(\"linha\").cumcount()\n",
    "\n",
    "capacidade_onibus = 50\n",
    "resultados, previsoes = {}, []\n",
    "\n",
    "for linha, g in df.groupby(\"linha\"):\n",
    "    # Para cada linha de ônibus, cria uma série temporal s indexada por t_seq\n",
    "    s = g.set_index(\"t_seq\")[\"requests\"]\n",
    "\n",
    "    # SARIMAX semanal \n",
    "    model = SARIMAX(s, order=(1,0,1), seasonal_order=(1,1,0,7),\n",
    "                    enforce_stationarity=False, enforce_invertibility=False)\n",
    "    res = model.fit(disp=False)\n",
    "\n",
    "    # previsão 1 passo à frente\n",
    "    fc = res.get_forecast(steps=1)\n",
    "    mean = float(fc.predicted_mean.iloc[0])\n",
    "    lo, hi = fc.conf_int().iloc[0].tolist() #limites inferior e superior do intervalo de confiança\n",
    "\n",
    "    # erro de treino\n",
    "    fitted = res.fittedvalues.dropna()\n",
    "    y_true = s.loc[fitted.index]\n",
    "    mse = mean_squared_error(y_true, fitted) #Compara com os valores reais da série e mede o erro quadrático médio (MSE)\n",
    "\n",
    "    prev_round = int(round(mean))\n",
    "    buses = math.ceil(max(prev_round,0) / capacidade_onibus)\n",
    "\n",
    "    resultados[linha] = dict(prev=prev_round, buses=buses, mse=mse, lo=lo, hi=hi, last=s.iloc[-1])\n",
    "    previsoes.append({\"linha\": linha, \"next_day\": int(s.index[-1])+1, \"requests\": prev_round})\n",
    "\n",
    "# DataFrame final\n",
    "df_prev = pd.DataFrame(previsoes).sort_values(\"linha\")\n",
    "\n",
    "# Resumo por linha\n",
    "for linha, r in resultados.items():\n",
    "    print(f\"Linha {linha}: prev={r['prev']} ônibus={r['buses']}  MSE={r['mse']:.2f}  \"\n",
    "          f\"(Intervalo≈[{r['lo']:.1f},{r['hi']:.1f}])\")\n"
   ]
  }
 ],
 "metadata": {
  "kernelspec": {
   "display_name": "Python 3",
   "language": "python",
   "name": "python3"
  },
  "language_info": {
   "codemirror_mode": {
    "name": "ipython",
    "version": 3
   },
   "file_extension": ".py",
   "mimetype": "text/x-python",
   "name": "python",
   "nbconvert_exporter": "python",
   "pygments_lexer": "ipython3",
   "version": "3.13.2"
  }
 },
 "nbformat": 4,
 "nbformat_minor": 5
}
